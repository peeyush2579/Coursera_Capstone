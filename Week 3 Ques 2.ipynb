{
 "cells": [
  {
   "cell_type": "markdown",
   "metadata": {},
   "source": [
    "## WEEK 3 QUESTION 2"
   ]
  },
  {
   "cell_type": "code",
   "execution_count": 1,
   "metadata": {},
   "outputs": [],
   "source": [
    "import numpy as np # library to handle data in a vectorized manner\n",
    "import pandas as pd # library for data analsysis \n",
    "        \n",
    "dd = pd.read_csv(\"Toronto_Q1_Answer.csv\")"
   ]
  },
  {
   "cell_type": "markdown",
   "metadata": {},
   "source": [
    "### Grab Geodata"
   ]
  },
  {
   "cell_type": "code",
   "execution_count": 2,
   "metadata": {},
   "outputs": [
    {
     "name": "stdout",
     "output_type": "stream",
     "text": [
      "--2020-08-17 10:13:20--  http://cocl.us/Geospatial_data\n",
      "Resolving cocl.us (cocl.us)... 169.55.161.7\n",
      "Connecting to cocl.us (cocl.us)|169.55.161.7|:80... connected.\n",
      "HTTP request sent, awaiting response... 301 Moved Permanently\n",
      "Location: https://cocl.us/Geospatial_data [following]\n",
      "--2020-08-17 10:13:20--  https://cocl.us/Geospatial_data\n",
      "Connecting to cocl.us (cocl.us)|169.55.161.7|:443... connected.\n",
      "HTTP request sent, awaiting response... 301 Moved Permanently\n",
      "Location: https://ibm.box.com/shared/static/9afzr83pps4pwf2smjjcf1y5mvgb18rr.csv [following]\n",
      "--2020-08-17 10:13:21--  https://ibm.box.com/shared/static/9afzr83pps4pwf2smjjcf1y5mvgb18rr.csv\n",
      "Resolving ibm.box.com (ibm.box.com)... 107.152.27.197\n",
      "Connecting to ibm.box.com (ibm.box.com)|107.152.27.197|:443... connected.\n",
      "HTTP request sent, awaiting response... 301 Moved Permanently\n",
      "Location: /public/static/9afzr83pps4pwf2smjjcf1y5mvgb18rr.csv [following]\n",
      "--2020-08-17 10:13:21--  https://ibm.box.com/public/static/9afzr83pps4pwf2smjjcf1y5mvgb18rr.csv\n",
      "Reusing existing connection to ibm.box.com:443.\n",
      "HTTP request sent, awaiting response... 301 Moved Permanently\n",
      "Location: https://ibm.ent.box.com/public/static/9afzr83pps4pwf2smjjcf1y5mvgb18rr.csv [following]\n",
      "--2020-08-17 10:13:21--  https://ibm.ent.box.com/public/static/9afzr83pps4pwf2smjjcf1y5mvgb18rr.csv\n",
      "Resolving ibm.ent.box.com (ibm.ent.box.com)... 107.152.29.201\n",
      "Connecting to ibm.ent.box.com (ibm.ent.box.com)|107.152.29.201|:443... connected.\n",
      "HTTP request sent, awaiting response... 302 Found\n",
      "Location: https://public.boxcloud.com/d/1/b1!j2sVZafVmwyCgq-rlk2izoBMhWDi-gAitO8B2WyTo6wia0QR7HODp8mxrWlzxjHzHnFotp67TW2vOJLO6FHNbaxHVSiWSS7uypfKTXCscBrARa6F9JJwnScrOvh6jCXX4FKVkqMcergmnitR2xmctKcHB6LMSq2J7GWbBgIeDxlMh3Yr2DmlkajMCjZtj6PQoYOvZpdtbhYVAF2zN4iSE9l7eFIjnpEhyKxlAsJGn5OJOyf_TIzcAbEd4QG9HBeS-XbCGOjf9qboX_FvNjzNXkUQbA_SrKBnGUC3XNLIClA52y62AWXxkDeSZ5CSA3vlXpkOdTXCG-WTzH68HflvcGQM04kJH9GJe892au3Xx7HrP5qbIga2Pm0VVxVCCMD9Xo7S1w5IdSjZLGUTsx3zmDJmdaHXxZJOPHg_ZGrHqZ4WSGXfV2F2TOIsRnalm3Fu2LO_3E7aAtTJYqUi6Be7BoVH6r2UAmTSNfYY9orHr0yGCVW-PQuQ80HJpiRLzbDc44Lnsd2nW6xJzOuOYAGc44Wk2cfs-HUa-i7rJ9p7co6qCHG1QZ7Tv7OVuaB3crXU5dotA_QtB4GBoIkN566Gd7VuWBeunEXptJkOs67XAXtOsffqNdjtHhKOcYgjqfbh5QEMD6BKCoOuVd3pSRx2G8UGT81zJwGWtd_-g2FCrVwnI4FwCKlzgKn5wGTMdFi-SFmHLLWOFJU7gP3lJWAaHE5yuNBI01TDbA5FeN5OpYQ8XamhITF2B65fRDX_uv60Knte-Xesn-e9YQhR0C_PXGFZG01jRbaE32MB1VWxq3blO1TFzOXmfrBhiL8cs_sGZfKLhYrogv7nSwaqfkFGukWlZ9H8NxU5BAhZ4z-YPKaSFbVeC8PXfp6oGFUVlijAqgdJTEtF4W63r-Grf68-UJqle4PtqXOinoodVKD7daX9DNYdNXpWNOhzhSozUesweNTHL_jJG4SFEWM84usUNV6Noh1FpNFGdf3ACAuffqdwLRTZ-Ey5RWd47YfcavBCDaqivwjB3hOX7P8pWcyqUDd9K9sfdrWhJ_5Ix1MvJzoaBU0QgamwMHz9RGQuEGA4AaAJ6NArs5aGEsa_ZK4C0sm1vnzYv6-ylMMnMHEpXRuCknN4kM8o0cCDIsh2idqi5CXR2gH-ldvB85RF7qMZDkr9O-ecnghz7YOJS-dF2DADeGtX_3_AaQ7t-7o8q6l-J-5m9LLXQf5j3llu9VALFLl7XKjclrFLOFCwtuGTXOaYPzBNayVqmwXdohkOAO8ddxWgvqz13_OU7i8NeSDX1mMOM2kmoZAC_F0W_sR8MCUAlVM3220c8VJSKqQK8av_AWOpXy-SaWnFcjE4V-vMRF1t3BUSs3utqeNOFsS86UjHYrqr9HcMWVa4rWQi9LXJk8aXzQARjR3ikYH8eqP22Up8hUp3axUoYisgEl_pEnjBEw../download [following]\n",
      "--2020-08-17 10:13:22--  https://public.boxcloud.com/d/1/b1!j2sVZafVmwyCgq-rlk2izoBMhWDi-gAitO8B2WyTo6wia0QR7HODp8mxrWlzxjHzHnFotp67TW2vOJLO6FHNbaxHVSiWSS7uypfKTXCscBrARa6F9JJwnScrOvh6jCXX4FKVkqMcergmnitR2xmctKcHB6LMSq2J7GWbBgIeDxlMh3Yr2DmlkajMCjZtj6PQoYOvZpdtbhYVAF2zN4iSE9l7eFIjnpEhyKxlAsJGn5OJOyf_TIzcAbEd4QG9HBeS-XbCGOjf9qboX_FvNjzNXkUQbA_SrKBnGUC3XNLIClA52y62AWXxkDeSZ5CSA3vlXpkOdTXCG-WTzH68HflvcGQM04kJH9GJe892au3Xx7HrP5qbIga2Pm0VVxVCCMD9Xo7S1w5IdSjZLGUTsx3zmDJmdaHXxZJOPHg_ZGrHqZ4WSGXfV2F2TOIsRnalm3Fu2LO_3E7aAtTJYqUi6Be7BoVH6r2UAmTSNfYY9orHr0yGCVW-PQuQ80HJpiRLzbDc44Lnsd2nW6xJzOuOYAGc44Wk2cfs-HUa-i7rJ9p7co6qCHG1QZ7Tv7OVuaB3crXU5dotA_QtB4GBoIkN566Gd7VuWBeunEXptJkOs67XAXtOsffqNdjtHhKOcYgjqfbh5QEMD6BKCoOuVd3pSRx2G8UGT81zJwGWtd_-g2FCrVwnI4FwCKlzgKn5wGTMdFi-SFmHLLWOFJU7gP3lJWAaHE5yuNBI01TDbA5FeN5OpYQ8XamhITF2B65fRDX_uv60Knte-Xesn-e9YQhR0C_PXGFZG01jRbaE32MB1VWxq3blO1TFzOXmfrBhiL8cs_sGZfKLhYrogv7nSwaqfkFGukWlZ9H8NxU5BAhZ4z-YPKaSFbVeC8PXfp6oGFUVlijAqgdJTEtF4W63r-Grf68-UJqle4PtqXOinoodVKD7daX9DNYdNXpWNOhzhSozUesweNTHL_jJG4SFEWM84usUNV6Noh1FpNFGdf3ACAuffqdwLRTZ-Ey5RWd47YfcavBCDaqivwjB3hOX7P8pWcyqUDd9K9sfdrWhJ_5Ix1MvJzoaBU0QgamwMHz9RGQuEGA4AaAJ6NArs5aGEsa_ZK4C0sm1vnzYv6-ylMMnMHEpXRuCknN4kM8o0cCDIsh2idqi5CXR2gH-ldvB85RF7qMZDkr9O-ecnghz7YOJS-dF2DADeGtX_3_AaQ7t-7o8q6l-J-5m9LLXQf5j3llu9VALFLl7XKjclrFLOFCwtuGTXOaYPzBNayVqmwXdohkOAO8ddxWgvqz13_OU7i8NeSDX1mMOM2kmoZAC_F0W_sR8MCUAlVM3220c8VJSKqQK8av_AWOpXy-SaWnFcjE4V-vMRF1t3BUSs3utqeNOFsS86UjHYrqr9HcMWVa4rWQi9LXJk8aXzQARjR3ikYH8eqP22Up8hUp3axUoYisgEl_pEnjBEw../download\n",
      "Resolving public.boxcloud.com (public.boxcloud.com)... 107.152.27.200\n",
      "Connecting to public.boxcloud.com (public.boxcloud.com)|107.152.27.200|:443... connected.\n",
      "HTTP request sent, awaiting response... 200 OK\n",
      "Length: 2891 (2.8K) [text/csv]\n",
      "Saving to: ‘Geospatial_data’\n",
      "\n",
      "Geospatial_data     100%[===================>]   2.82K  --.-KB/s    in 0s      \n",
      "\n",
      "2020-08-17 10:13:23 (6.96 MB/s) - ‘Geospatial_data’ saved [2891/2891]\n",
      "\n"
     ]
    }
   ],
   "source": [
    "!wget http://cocl.us/Geospatial_data"
   ]
  },
  {
   "cell_type": "markdown",
   "metadata": {},
   "source": [
    "### Merge Geodata"
   ]
  },
  {
   "cell_type": "code",
   "execution_count": null,
   "metadata": {},
   "outputs": [],
   "source": [
    "geo = pd.read_csv('Geospatial_data')\n",
    "geo.columns = ['Postcode', 'Latitude', 'Longitude']\n",
    "\n",
    "df_outer = pd.merge(dd, geo, on='Postcode', how='inner')\n",
    "df_outer.to_csv(\"Toronto_Q2_Answer.csv\", index=False) #save the results so I can use them in Q3\n",
    "df_outer"
   ]
  },
  {
   "cell_type": "code",
   "execution_count": null,
   "metadata": {},
   "outputs": [],
   "source": []
  }
 ],
 "metadata": {
  "kernelspec": {
   "display_name": "Python",
   "language": "python",
   "name": "conda-env-python-py"
  },
  "language_info": {
   "codemirror_mode": {
    "name": "ipython",
    "version": 3
   },
   "file_extension": ".py",
   "mimetype": "text/x-python",
   "name": "python",
   "nbconvert_exporter": "python",
   "pygments_lexer": "ipython3",
   "version": "3.6.11"
  }
 },
 "nbformat": 4,
 "nbformat_minor": 4
}
